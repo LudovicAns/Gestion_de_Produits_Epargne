{
 "cells": [
  {
   "cell_type": "markdown",
   "metadata": {},
   "source": [
    "# Séance 1 : \n",
    "## 1. Programmation Orientée Objet Avancée (POO)\n",
    "Concepts à couvrir :\n",
    "- Classes abstraites (ABC)\n",
    "- Héritage multiple\n",
    "- Mixins\n",
    "- Décorateur @property\n",
    "- Méthodes magiques (__str__, __repr__, etc.)"
   ]
  },
  {
   "cell_type": "markdown",
   "metadata": {},
   "source": [
    "### Classes abstraites et ABC\n",
    "Une classe abstraite est une classe qui ne peut pas être instanciée. Elle sert de modèle pour d'autres classes. Elle définit des méthodes que les classes dérivées doivent implémenter.\n",
    "\n",
    "Exemple :"
   ]
  },
  {
   "cell_type": "code",
   "metadata": {
    "ExecuteTime": {
     "end_time": "2025-06-10T09:27:12.106518Z",
     "start_time": "2025-06-10T09:27:12.101319Z"
    }
   },
   "source": [
    "from abc import ABC, abstractmethod\n",
    "\n",
    "class Animal(ABC):\n",
    "    @abstractmethod\n",
    "    def speak(self):\n",
    "        pass"
   ],
   "outputs": [],
   "execution_count": 1
  },
  {
   "cell_type": "markdown",
   "metadata": {},
   "source": [
    "Remarque : Ici, Animal ne peut pas être instanciée tant que speak() n’est pas définie dans une sous-classe."
   ]
  },
  {
   "cell_type": "markdown",
   "metadata": {},
   "source": [
    "### Héritage multiple + Mixin\n",
    "L’héritage multiple permet à une classe de dériver de plusieurs classes. Cela peut être risqué si mal utilisé, mais très puissant avec des Mixins, qui sont des classes conçues pour ajouter des fonctionnalités sans être instanciées."
   ]
  },
  {
   "cell_type": "code",
   "metadata": {
    "ExecuteTime": {
     "end_time": "2025-06-10T09:27:12.188007Z",
     "start_time": "2025-06-10T09:27:12.180486Z"
    }
   },
   "source": [
    "class WalkerMixin:\n",
    "    def walk(self):\n",
    "        return f\"{self.name} is walking\"\n",
    "\n",
    "class Dog(Animal, WalkerMixin):\n",
    "    def __init__(self, name):\n",
    "        self.name = name\n",
    "\n",
    "    def speak(self):\n",
    "        return \"Woof!\"\n",
    "\n",
    "dog = Dog(\"Rex\")\n",
    "print(dog.speak())  # Woof!\n",
    "print(dog.walk())   # Rex is walking"
   ],
   "outputs": [
    {
     "name": "stdout",
     "output_type": "stream",
     "text": [
      "Woof!\n",
      "Rex is walking\n"
     ]
    }
   ],
   "execution_count": 2
  },
  {
   "cell_type": "markdown",
   "metadata": {},
   "source": [
    "Remarque : Ici, Dog hérite à la fois d'Animal (classe abstraite) et de WalkerMixin (comportement supplémentaire). On sépare la logique métier (Animal) de la fonctionnalité (marcher) avec le Mixin."
   ]
  },
  {
   "cell_type": "markdown",
   "metadata": {},
   "source": [
    "### @property\n",
    "Transforme une méthode en attribut. Utile pour encapsuler l'accès aux données sans rompre l’interface utilisateur."
   ]
  },
  {
   "cell_type": "code",
   "metadata": {
    "ExecuteTime": {
     "end_time": "2025-06-10T09:27:12.305901Z",
     "start_time": "2025-06-10T09:27:12.302366Z"
    }
   },
   "source": [
    "class Circle:\n",
    "    def __init__(self, radius):\n",
    "        self._radius = radius\n",
    "\n",
    "    @property\n",
    "    def diameter(self):\n",
    "        return self._radius * 2\n",
    "\n",
    "c = Circle(5)\n",
    "print(c.diameter)  # 10"
   ],
   "outputs": [
    {
     "name": "stdout",
     "output_type": "stream",
     "text": [
      "10\n"
     ]
    }
   ],
   "execution_count": 3
  },
  {
   "cell_type": "markdown",
   "metadata": {},
   "source": [
    "### Méthodes magiques (__str__, __repr__, etc.)\n",
    "Elles définissent le comportement d’un objet avec les fonctions intégrées (print(), +, ==, etc.)"
   ]
  },
  {
   "cell_type": "code",
   "metadata": {
    "ExecuteTime": {
     "end_time": "2025-06-10T09:27:12.367621Z",
     "start_time": "2025-06-10T09:27:12.364397Z"
    }
   },
   "source": [
    "class Book:\n",
    "    def __init__(self, title):\n",
    "        self.title = title\n",
    "\n",
    "    def __str__(self):\n",
    "        return f\"Le nom du livre est {self.title}\"\n",
    "\n",
    "    def __repr__(self):\n",
    "        return f\"Book: {self.title}\"\n",
    "\n",
    "b = Book(\"1984\")\n",
    "print(b)  # Book: 1984"
   ],
   "outputs": [
    {
     "name": "stdout",
     "output_type": "stream",
     "text": [
      "Le nom du livre est 1984\n"
     ]
    }
   ],
   "execution_count": 4
  },
  {
   "cell_type": "code",
   "metadata": {
    "ExecuteTime": {
     "end_time": "2025-06-10T09:27:12.566503Z",
     "start_time": "2025-06-10T09:27:12.557225Z"
    }
   },
   "source": [
    "b"
   ],
   "outputs": [
    {
     "data": {
      "text/plain": [
       "Book: 1984"
      ]
     },
     "execution_count": 5,
     "metadata": {},
     "output_type": "execute_result"
    }
   ],
   "execution_count": 5
  },
  {
   "cell_type": "markdown",
   "metadata": {},
   "source": [
    "## 2. Structuration de Projet Python\n",
    "Concepts à couvrir :\n",
    "- Organisation modulaire\n",
    "- Séparation code / test\n",
    "- Fichiers pyproject.toml ou setup.py pour empaquetage\n",
    "- Utilisation de __init__.py"
   ]
  },
  {
   "cell_type": "markdown",
   "metadata": {},
   "source": [
    "Structure standard d'un projet :"
   ]
  },
  {
   "cell_type": "raw",
   "metadata": {},
   "source": [
    "mon_projet/\n",
    "│\n",
    "├── pyproject.toml\n",
    "├── README.md\n",
    "├── src/\n",
    "│   └── mon_module/\n",
    "│       ├── __init__.py\n",
    "│       ├── core.py\n",
    "│       └── utils.py\n",
    "├── tests/\n",
    "│   └── test_core.py\n",
    "Objectif : clarté, scalabilité, testabilité."
   ]
  },
  {
   "cell_type": "markdown",
   "metadata": {},
   "source": [
    "Exemple de code (ex_core_test.py) :"
   ]
  },
  {
   "cell_type": "code",
   "metadata": {
    "ExecuteTime": {
     "end_time": "2025-06-10T09:27:12.652823Z",
     "start_time": "2025-06-10T09:27:12.649799Z"
    }
   },
   "source": [
    "def addition(a, b):\n",
    "    return a + b"
   ],
   "outputs": [],
   "execution_count": 6
  },
  {
   "cell_type": "markdown",
   "metadata": {},
   "source": [
    "Fichier de test avec pytest (test_core.py) :"
   ]
  },
  {
   "cell_type": "code",
   "metadata": {
    "ExecuteTime": {
     "end_time": "2025-06-10T09:27:13.068531Z",
     "start_time": "2025-06-10T09:27:12.706038Z"
    }
   },
   "source": [
    "from src.mon_module.core import addition\n",
    "\n",
    "def test_addition():\n",
    "    assert addition(2, 3) == 5"
   ],
   "outputs": [
    {
     "ename": "ModuleNotFoundError",
     "evalue": "No module named 'src'",
     "output_type": "error",
     "traceback": [
      "\u001B[31m---------------------------------------------------------------------------\u001B[39m",
      "\u001B[31mModuleNotFoundError\u001B[39m                       Traceback (most recent call last)",
      "\u001B[36mCell\u001B[39m\u001B[36m \u001B[39m\u001B[32mIn[7]\u001B[39m\u001B[32m, line 1\u001B[39m\n\u001B[32m----> \u001B[39m\u001B[32m1\u001B[39m \u001B[38;5;28;01mfrom\u001B[39;00m\u001B[38;5;250m \u001B[39m\u001B[34;01msrc\u001B[39;00m\u001B[34;01m.\u001B[39;00m\u001B[34;01mmon_module\u001B[39;00m\u001B[34;01m.\u001B[39;00m\u001B[34;01mcore\u001B[39;00m\u001B[38;5;250m \u001B[39m\u001B[38;5;28;01mimport\u001B[39;00m addition\n\u001B[32m      3\u001B[39m \u001B[38;5;28;01mdef\u001B[39;00m\u001B[38;5;250m \u001B[39m\u001B[34mtest_addition\u001B[39m():\n\u001B[32m      4\u001B[39m     \u001B[38;5;28;01massert\u001B[39;00m addition(\u001B[32m2\u001B[39m, \u001B[32m3\u001B[39m) == \u001B[32m5\u001B[39m\n",
      "\u001B[31mModuleNotFoundError\u001B[39m: No module named 'src'"
     ]
    }
   ],
   "execution_count": 7
  },
  {
   "cell_type": "markdown",
   "metadata": {},
   "source": [
    "Exécution avec :"
   ]
  },
  {
   "cell_type": "code",
   "execution_count": null,
   "metadata": {},
   "outputs": [],
   "source": [
    "pytest tests/\n",
    "\n",
    "#Sortie :\n",
    "1 passed in 0.01s"
   ]
  },
  {
   "cell_type": "markdown",
   "metadata": {},
   "source": [
    "\n",
    "Cette structure est recommandée pour des projets professionnels, surtout avec des tests automatisés."
   ]
  },
  {
   "cell_type": "markdown",
   "metadata": {},
   "source": [
    "Explication plus complète de la structure :"
   ]
  },
  {
   "cell_type": "raw",
   "metadata": {},
   "source": [
    "mon_projet/\n",
    "│\n",
    "├── pyproject.toml         ← Fichier de configuration standardisé du projet (explications ci-dessous)\n",
    "├── README.md              ← Présentation du projet (objectif, usage, installation)\n",
    "├── src/                   ← Contient le code source principal du projet\n",
    "│   └── mon_module/        ← Package principal du projet\n",
    "│       ├── __init__.py    ← Rend le dossier importable comme un module Python\n",
    "│       ├── core.py        ← Contient la logique métier principale (fonctions/classes cœur)\n",
    "│       └── utils.py       ← Fonctions utilitaires (ex. : validation, conversions)\n",
    "├── tests/                 ← Tests unitaires (souvent via `pytest`)\n",
    "│   └── test_core.py       ← Tests du fichier `core.py`"
   ]
  },
  {
   "cell_type": "markdown",
   "metadata": {},
   "source": [
    "## 3. Typage Statique & Annotations"
   ]
  },
  {
   "cell_type": "markdown",
   "metadata": {},
   "source": [
    "### Concepts à couvrir :\n",
    "- typing module\n",
    "- Annotations de type\n",
    "- Outils de vérification (mypy)\n",
    "\n",
    "Exemple simple avec annotation :"
   ]
  },
  {
   "cell_type": "code",
   "execution_count": 2,
   "metadata": {},
   "outputs": [
    {
     "name": "stdout",
     "output_type": "stream",
     "text": [
      "Hello Alice, you are 30 years old.\n"
     ]
    }
   ],
   "source": [
    "def greet(name: str, age: int) -> str:\n",
    "    return f\"Hello {name}, you are {age} years old.\"\n",
    "\n",
    "print(greet(\"Alice\", 30))"
   ]
  },
  {
   "cell_type": "markdown",
   "metadata": {},
   "source": [
    "Python n’impose pas les types à l’exécution, mais les outils comme mypy permettent de vérifier les types à l’avance.\n",
    "\n",
    "Utilisation de mypy :"
   ]
  },
  {
   "cell_type": "code",
   "metadata": {
    "ExecuteTime": {
     "end_time": "2025-06-10T09:27:59.576926Z",
     "start_time": "2025-06-10T09:27:59.569242Z"
    }
   },
   "source": [
    "# Installe mypy :\n",
    "pip install mypy\n",
    "# Exécution :\n",
    "mypy fichier.py\n",
    "#Si tu écris :\n",
    "\n",
    "def add(x: int, y: int) -> int:\n",
    "    return x + \"2\"\n",
    "#Erreur mypy :\n",
    "error: Unsupported operand types for + (\"int\" and \"str\")"
   ],
   "outputs": [
    {
     "ename": "SyntaxError",
     "evalue": "invalid syntax (1519399722.py, line 4)",
     "output_type": "error",
     "traceback": [
      "  \u001B[36mCell\u001B[39m\u001B[36m \u001B[39m\u001B[32mIn[9]\u001B[39m\u001B[32m, line 4\u001B[39m\n\u001B[31m    \u001B[39m\u001B[31mmypy fichier.py\u001B[39m\n         ^\n\u001B[31mSyntaxError\u001B[39m\u001B[31m:\u001B[39m invalid syntax\n"
     ]
    }
   ],
   "execution_count": 9
  },
  {
   "cell_type": "markdown",
   "metadata": {},
   "source": [
    "Le module typing permet d’annoter des structures plus complexes :"
   ]
  },
  {
   "cell_type": "code",
   "execution_count": 4,
   "metadata": {},
   "outputs": [],
   "source": [
    "from typing import List, Tuple, Dict, Optional\n",
    "\n",
    "def process(numbers: List[int]) -> Tuple[int, int]:\n",
    "    return min(numbers), max(numbers)\n",
    "\n",
    "def get_user(id: int) -> Optional[Dict[str, str]]:\n",
    "    return {\"name\": \"Alice\"} if id == 1 else None"
   ]
  },
  {
   "cell_type": "markdown",
   "metadata": {},
   "source": [
    "Documentation :\n",
    "\n",
    "Typing : https://docs.python.org/3/library/typing.html\n",
    "\n",
    "Mypy : https://mypy.readthedocs.io/en/stable/"
   ]
  },
  {
   "cell_type": "markdown",
   "metadata": {},
   "source": [
    "## 4. Context Managers (Gestion de ressources)\n",
    "### Concepts à couvrir :\n",
    "- Syntaxe with\n",
    "- Méthodes __enter__ et __exit__\n",
    "- Utilisation pour sécuriser ouverture de fichiers, connexions, etc.\n",
    "\n",
    "Exemple simple :"
   ]
  },
  {
   "cell_type": "code",
   "execution_count": 10,
   "metadata": {},
   "outputs": [
    {
     "name": "stdout",
     "output_type": "stream",
     "text": [
      "\n",
      "##Ouverture du fichier##\n",
      "\n",
      "\n",
      "Bonjour\n",
      "Comment vous allez ?\n",
      "Bonne journée\n",
      "\n",
      "\n",
      "##Fermeture du fichier##\n",
      "\n"
     ]
    }
   ],
   "source": [
    "class FileOpener:\n",
    "    def __init__(self, filename):\n",
    "        self.filename = filename\n",
    "\n",
    "    def __enter__(self):\n",
    "        self.file = open(self.filename, 'r')\n",
    "        print(\"\\n##Ouverture du fichier##\\n\\n\")\n",
    "        return self.file\n",
    "\n",
    "    def __exit__(self, exc_type, exc_val, exc_tb):\n",
    "        print(\"\\n\\n##Fermeture du fichier##\\n\")\n",
    "        self.file.close()\n",
    "\n",
    "# Suppose le fichier \"example.txt\" contient \"Bonjour\"\n",
    "with FileOpener(\"./exemples/ex_context_managers.txt\") as f:\n",
    "    print(f.read())"
   ]
  },
  {
   "cell_type": "code",
   "execution_count": 12,
   "metadata": {},
   "outputs": [
    {
     "name": "stdout",
     "output_type": "stream",
     "text": [
      "\n",
      "##Ouverture du fichier##\n",
      "\n",
      "\n",
      "Bonjour\n",
      "Comment vous allez ?\n",
      "Bonne journée\n",
      "\n",
      "\n",
      "##Fermeture du fichier##\n",
      "\n"
     ]
    }
   ],
   "source": [
    "f = open(\"./exemples/ex_context_managers.txt\", \"r\")\n",
    "print(\"\\n##Ouverture du fichier##\\n\\n\")\n",
    "try:\n",
    "    contenu = f.read()\n",
    "    print(contenu)\n",
    "finally:\n",
    "    print(\"\\n\\n##Fermeture du fichier##\\n\")\n",
    "    f.close()"
   ]
  },
  {
   "cell_type": "markdown",
   "metadata": {},
   "source": [
    "Documentation :\n",
    "\n",
    "Context managers : https://docs.python.org/3/reference/datamodel.html#context-managers\n",
    "\n",
    "contextlib : https://docs.python.org/3/library/contextlib.html"
   ]
  },
  {
   "cell_type": "markdown",
   "metadata": {},
   "source": [
    "# Exercice de type projet"
   ]
  },
  {
   "cell_type": "code",
   "execution_count": null,
   "metadata": {},
   "outputs": [],
   "source": []
  }
 ],
 "metadata": {
  "kernelspec": {
   "display_name": "Python [conda env:base] *",
   "language": "python",
   "name": "conda-base-py"
  },
  "language_info": {
   "codemirror_mode": {
    "name": "ipython",
    "version": 3
   },
   "file_extension": ".py",
   "mimetype": "text/x-python",
   "name": "python",
   "nbconvert_exporter": "python",
   "pygments_lexer": "ipython3",
   "version": "3.12.7"
  }
 },
 "nbformat": 4,
 "nbformat_minor": 4
}
